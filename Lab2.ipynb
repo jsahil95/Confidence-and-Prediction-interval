{
 "cells": [
  {
   "cell_type": "code",
   "execution_count": 2,
   "metadata": {
    "collapsed": true
   },
   "outputs": [],
   "source": [
    "import os \n",
    "import pandas as pd\n",
    "import matplotlib.pyplot as plt \n",
    "import numpy as np \n",
    "import statsmodels as sm \n",
    "import statsmodels.formula.api as smf\n",
    "from scipy.stats import t as tdist\n",
    "from statsmodels.stats.outliers_influence import summary_table \n",
    "get_ipython().magic(u'matplotlib inline')"
   ]
  },
  {
   "cell_type": "code",
   "execution_count": 3,
   "metadata": {},
   "outputs": [
    {
     "data": {
      "text/plain": [
       "'/Users/sahiljain'"
      ]
     },
     "execution_count": 3,
     "metadata": {},
     "output_type": "execute_result"
    }
   ],
   "source": [
    "os.getcwd()"
   ]
  },
  {
   "cell_type": "code",
   "execution_count": 4,
   "metadata": {
    "collapsed": true
   },
   "outputs": [],
   "source": [
    "os.chdir(\"/Users/sahiljain/Downloads\")"
   ]
  },
  {
   "cell_type": "code",
   "execution_count": 5,
   "metadata": {
    "collapsed": true
   },
   "outputs": [],
   "source": [
    "bikeShare = pd.read_csv('bike_share.csv')"
   ]
  },
  {
   "cell_type": "code",
   "execution_count": 6,
   "metadata": {
    "collapsed": true
   },
   "outputs": [],
   "source": [
    "# Let y = count, x1, x2, x3, x4 be temprature, humidity, windspeed, season\n",
    "# and Weather respectively\n",
    "y = bikeShare[\"count\"]\n",
    "x1 = bikeShare[\"temp\"]\n",
    "x2 = bikeShare[\"humidity\"]\n",
    "x3 = bikeShare[\"windspeed\"]\n",
    "x4 = bikeShare[\"season\"]\n",
    "x5 = bikeShare[\"weather\"]"
   ]
  },
  {
   "cell_type": "code",
   "execution_count": 7,
   "metadata": {},
   "outputs": [
    {
     "data": {
      "text/html": [
       "<table class=\"simpletable\">\n",
       "<caption>OLS Regression Results</caption>\n",
       "<tr>\n",
       "  <th>Dep. Variable:</th>          <td>count</td>      <th>  R-squared:         </th> <td>   0.156</td> \n",
       "</tr>\n",
       "<tr>\n",
       "  <th>Model:</th>                   <td>OLS</td>       <th>  Adj. R-squared:    </th> <td>   0.156</td> \n",
       "</tr>\n",
       "<tr>\n",
       "  <th>Method:</th>             <td>Least Squares</td>  <th>  F-statistic:       </th> <td>   2006.</td> \n",
       "</tr>\n",
       "<tr>\n",
       "  <th>Date:</th>             <td>Tue, 26 Sep 2017</td> <th>  Prob (F-statistic):</th>  <td>  0.00</td>  \n",
       "</tr>\n",
       "<tr>\n",
       "  <th>Time:</th>                 <td>22:12:54</td>     <th>  Log-Likelihood:    </th> <td> -71125.</td> \n",
       "</tr>\n",
       "<tr>\n",
       "  <th>No. Observations:</th>      <td> 10886</td>      <th>  AIC:               </th> <td>1.423e+05</td>\n",
       "</tr>\n",
       "<tr>\n",
       "  <th>Df Residuals:</th>          <td> 10884</td>      <th>  BIC:               </th> <td>1.423e+05</td>\n",
       "</tr>\n",
       "<tr>\n",
       "  <th>Df Model:</th>              <td>     1</td>      <th>                     </th>     <td> </td>    \n",
       "</tr>\n",
       "<tr>\n",
       "  <th>Covariance Type:</th>      <td>nonrobust</td>    <th>                     </th>     <td> </td>    \n",
       "</tr>\n",
       "</table>\n",
       "<table class=\"simpletable\">\n",
       "<tr>\n",
       "    <td></td>       <th>coef</th>     <th>std err</th>      <th>t</th>      <th>P>|t|</th>  <th>[0.025</th>    <th>0.975]</th>  \n",
       "</tr>\n",
       "<tr>\n",
       "  <th>const</th> <td> -156.9856</td> <td>    7.945</td> <td>  -19.759</td> <td> 0.000</td> <td> -172.560</td> <td> -141.412</td>\n",
       "</tr>\n",
       "<tr>\n",
       "  <th>temp</th>  <td>    5.0947</td> <td>    0.114</td> <td>   44.783</td> <td> 0.000</td> <td>    4.872</td> <td>    5.318</td>\n",
       "</tr>\n",
       "</table>\n",
       "<table class=\"simpletable\">\n",
       "<tr>\n",
       "  <th>Omnibus:</th>       <td>1871.687</td> <th>  Durbin-Watson:     </th> <td>   0.369</td>\n",
       "</tr>\n",
       "<tr>\n",
       "  <th>Prob(Omnibus):</th>  <td> 0.000</td>  <th>  Jarque-Bera (JB):  </th> <td>3221.966</td>\n",
       "</tr>\n",
       "<tr>\n",
       "  <th>Skew:</th>           <td> 1.123</td>  <th>  Prob(JB):          </th> <td>    0.00</td>\n",
       "</tr>\n",
       "<tr>\n",
       "  <th>Kurtosis:</th>       <td> 4.434</td>  <th>  Cond. No.          </th> <td>    348.</td>\n",
       "</tr>\n",
       "</table>"
      ],
      "text/plain": [
       "<class 'statsmodels.iolib.summary.Summary'>\n",
       "\"\"\"\n",
       "                            OLS Regression Results                            \n",
       "==============================================================================\n",
       "Dep. Variable:                  count   R-squared:                       0.156\n",
       "Model:                            OLS   Adj. R-squared:                  0.156\n",
       "Method:                 Least Squares   F-statistic:                     2006.\n",
       "Date:                Tue, 26 Sep 2017   Prob (F-statistic):               0.00\n",
       "Time:                        22:12:54   Log-Likelihood:                -71125.\n",
       "No. Observations:               10886   AIC:                         1.423e+05\n",
       "Df Residuals:                   10884   BIC:                         1.423e+05\n",
       "Df Model:                           1                                         \n",
       "Covariance Type:            nonrobust                                         \n",
       "==============================================================================\n",
       "                 coef    std err          t      P>|t|      [0.025      0.975]\n",
       "------------------------------------------------------------------------------\n",
       "const       -156.9856      7.945    -19.759      0.000    -172.560    -141.412\n",
       "temp           5.0947      0.114     44.783      0.000       4.872       5.318\n",
       "==============================================================================\n",
       "Omnibus:                     1871.687   Durbin-Watson:                   0.369\n",
       "Prob(Omnibus):                  0.000   Jarque-Bera (JB):             3221.966\n",
       "Skew:                           1.123   Prob(JB):                         0.00\n",
       "Kurtosis:                       4.434   Cond. No.                         348.\n",
       "==============================================================================\n",
       "\n",
       "Warnings:\n",
       "[1] Standard Errors assume that the covariance matrix of the errors is correctly specified.\n",
       "\"\"\""
      ]
     },
     "execution_count": 7,
     "metadata": {},
     "output_type": "execute_result"
    }
   ],
   "source": [
    "#(A) Fit a simple linear regression model relating count to temp.\n",
    "# Formally test Beta_1 = 0 and beta_1 != 0. \n",
    "\n",
    "# Linear model of count to temp. \n",
    "lm = smf.OLS(y, sm.tools.tools.add_constant(x1),)\n",
    "model1 = lm.fit()\n",
    "model1.summary()"
   ]
  },
  {
   "cell_type": "code",
   "execution_count": 8,
   "metadata": {},
   "outputs": [
    {
     "data": {
      "text/plain": [
       "5.0947447119035711"
      ]
     },
     "execution_count": 8,
     "metadata": {},
     "output_type": "execute_result"
    }
   ],
   "source": [
    "# Calculating the parameters manually. \n",
    "# Beta1_hat \n",
    "beta1a_hat = np.corrcoef(x1,y)[0,1] * np.std(y) / np.std(x1)\n",
    "beta1a_hat"
   ]
  },
  {
   "cell_type": "code",
   "execution_count": 34,
   "metadata": {},
   "outputs": [
    {
     "data": {
      "text/plain": [
       "-156.98561782130787"
      ]
     },
     "execution_count": 34,
     "metadata": {},
     "output_type": "execute_result"
    }
   ],
   "source": [
    "# Beta0_hat\n",
    "beta0a_hat = np.mean(y) - beta1a_hat * np.mean(x1)\n",
    "beta0a_hat"
   ]
  },
  {
   "cell_type": "code",
   "execution_count": 10,
   "metadata": {},
   "outputs": [
    {
     "name": "stdout",
     "output_type": "stream",
     "text": [
      "('The p-value associated with Ho: beta1 = 0 is ', 0.0)\n"
     ]
    }
   ],
   "source": [
    "# H0 : beta1 = 0 vs Ha : beta1 != 0\n",
    "se_beta1a = model1.bse[1]\n",
    "t = beta1a_hat /  se_beta1a\n",
    "p_val1 = 2 * (1 - tdist.cdf(np.abs(t), df = 10884))\n",
    "print(\"The p-value associated with Ho: beta1 = 0 is \", p_val1)"
   ]
  },
  {
   "cell_type": "code",
   "execution_count": 11,
   "metadata": {},
   "outputs": [
    {
     "name": "stdout",
     "output_type": "stream",
     "text": [
      "('The 95% confidence for beta1 is : ', 4.8717449933595889, 5.3177444304475534)\n"
     ]
    }
   ],
   "source": [
    "# 95% Confindece Inteval for beta1 \n",
    "crit_val = tdist.ppf(0.975, df = 10884)\n",
    "low_CI = beta1a_hat - crit_val*se_beta1a\n",
    "upp_CI = beta1a_hat + crit_val*se_beta1a\n",
    "print(\"The 95% confidence for beta1 is : \", low_CI, upp_CI)"
   ]
  },
  {
   "cell_type": "code",
   "execution_count": 12,
   "metadata": {
    "collapsed": true
   },
   "outputs": [],
   "source": [
    "# Interpretaion : From the p-value which is 0, we will not reject the \n",
    "# null hypothesis and the level of confidence in 99.5%. This means that \n",
    "# variable windspeed is highly significant and bike rentals are \n",
    "# significantly influenced by the temprature.\n"
   ]
  },
  {
   "cell_type": "code",
   "execution_count": 13,
   "metadata": {},
   "outputs": [
    {
     "data": {
      "text/html": [
       "<table class=\"simpletable\">\n",
       "<caption>OLS Regression Results</caption>\n",
       "<tr>\n",
       "  <th>Dep. Variable:</th>          <td>count</td>      <th>  R-squared:         </th> <td>   0.101</td> \n",
       "</tr>\n",
       "<tr>\n",
       "  <th>Model:</th>                   <td>OLS</td>       <th>  Adj. R-squared:    </th> <td>   0.101</td> \n",
       "</tr>\n",
       "<tr>\n",
       "  <th>Method:</th>             <td>Least Squares</td>  <th>  F-statistic:       </th> <td>   1219.</td> \n",
       "</tr>\n",
       "<tr>\n",
       "  <th>Date:</th>             <td>Tue, 26 Sep 2017</td> <th>  Prob (F-statistic):</th> <td>2.92e-253</td>\n",
       "</tr>\n",
       "<tr>\n",
       "  <th>Time:</th>                 <td>22:13:02</td>     <th>  Log-Likelihood:    </th> <td> -71468.</td> \n",
       "</tr>\n",
       "<tr>\n",
       "  <th>No. Observations:</th>      <td> 10886</td>      <th>  AIC:               </th> <td>1.429e+05</td>\n",
       "</tr>\n",
       "<tr>\n",
       "  <th>Df Residuals:</th>          <td> 10884</td>      <th>  BIC:               </th> <td>1.430e+05</td>\n",
       "</tr>\n",
       "<tr>\n",
       "  <th>Df Model:</th>              <td>     1</td>      <th>                     </th>     <td> </td>    \n",
       "</tr>\n",
       "<tr>\n",
       "  <th>Covariance Type:</th>      <td>nonrobust</td>    <th>                     </th>     <td> </td>    \n",
       "</tr>\n",
       "</table>\n",
       "<table class=\"simpletable\">\n",
       "<tr>\n",
       "      <td></td>        <th>coef</th>     <th>std err</th>      <th>t</th>      <th>P>|t|</th>  <th>[0.025</th>    <th>0.975]</th>  \n",
       "</tr>\n",
       "<tr>\n",
       "  <th>const</th>    <td>  376.4456</td> <td>    5.545</td> <td>   67.890</td> <td> 0.000</td> <td>  365.577</td> <td>  387.315</td>\n",
       "</tr>\n",
       "<tr>\n",
       "  <th>humidity</th> <td>   -2.9873</td> <td>    0.086</td> <td>  -34.915</td> <td> 0.000</td> <td>   -3.155</td> <td>   -2.820</td>\n",
       "</tr>\n",
       "</table>\n",
       "<table class=\"simpletable\">\n",
       "<tr>\n",
       "  <th>Omnibus:</th>       <td>2068.515</td> <th>  Durbin-Watson:     </th> <td>   0.351</td>\n",
       "</tr>\n",
       "<tr>\n",
       "  <th>Prob(Omnibus):</th>  <td> 0.000</td>  <th>  Jarque-Bera (JB):  </th> <td>3709.739</td>\n",
       "</tr>\n",
       "<tr>\n",
       "  <th>Skew:</th>           <td> 1.210</td>  <th>  Prob(JB):          </th> <td>    0.00</td>\n",
       "</tr>\n",
       "<tr>\n",
       "  <th>Kurtosis:</th>       <td> 4.525</td>  <th>  Cond. No.          </th> <td>    218.</td>\n",
       "</tr>\n",
       "</table>"
      ],
      "text/plain": [
       "<class 'statsmodels.iolib.summary.Summary'>\n",
       "\"\"\"\n",
       "                            OLS Regression Results                            \n",
       "==============================================================================\n",
       "Dep. Variable:                  count   R-squared:                       0.101\n",
       "Model:                            OLS   Adj. R-squared:                  0.101\n",
       "Method:                 Least Squares   F-statistic:                     1219.\n",
       "Date:                Tue, 26 Sep 2017   Prob (F-statistic):          2.92e-253\n",
       "Time:                        22:13:02   Log-Likelihood:                -71468.\n",
       "No. Observations:               10886   AIC:                         1.429e+05\n",
       "Df Residuals:                   10884   BIC:                         1.430e+05\n",
       "Df Model:                           1                                         \n",
       "Covariance Type:            nonrobust                                         \n",
       "==============================================================================\n",
       "                 coef    std err          t      P>|t|      [0.025      0.975]\n",
       "------------------------------------------------------------------------------\n",
       "const        376.4456      5.545     67.890      0.000     365.577     387.315\n",
       "humidity      -2.9873      0.086    -34.915      0.000      -3.155      -2.820\n",
       "==============================================================================\n",
       "Omnibus:                     2068.515   Durbin-Watson:                   0.351\n",
       "Prob(Omnibus):                  0.000   Jarque-Bera (JB):             3709.739\n",
       "Skew:                           1.210   Prob(JB):                         0.00\n",
       "Kurtosis:                       4.525   Cond. No.                         218.\n",
       "==============================================================================\n",
       "\n",
       "Warnings:\n",
       "[1] Standard Errors assume that the covariance matrix of the errors is correctly specified.\n",
       "\"\"\""
      ]
     },
     "execution_count": 13,
     "metadata": {},
     "output_type": "execute_result"
    }
   ],
   "source": [
    "# (B) Fit a simple linear regression model relating count to humidity. \n",
    "# Formally test Beta_1 = 0 and beta_1 != 0. \n",
    "\n",
    "# Linear model of count to humidity \n",
    "lm = smf.OLS(y, sm.tools.tools.add_constant(x2),)\n",
    "model2 = lm.fit()\n",
    "model2.summary()"
   ]
  },
  {
   "cell_type": "code",
   "execution_count": 14,
   "metadata": {},
   "outputs": [
    {
     "data": {
      "text/plain": [
       "-2.9872685785344091"
      ]
     },
     "execution_count": 14,
     "metadata": {},
     "output_type": "execute_result"
    }
   ],
   "source": [
    "# Calculating the parameters manually \n",
    "\n",
    "# Beta1_hat \n",
    "beta1b_hat = np.corrcoef(x2,y)[0,1] * np.std(y) / np.std(x2)\n",
    "beta1b_hat"
   ]
  },
  {
   "cell_type": "code",
   "execution_count": 15,
   "metadata": {},
   "outputs": [
    {
     "data": {
      "text/plain": [
       "376.44560833036167"
      ]
     },
     "execution_count": 15,
     "metadata": {},
     "output_type": "execute_result"
    }
   ],
   "source": [
    "# Beta0_hat\n",
    "beta0b_hat = np.mean(y) - beta1b_hat * np.mean(x2)\n",
    "beta0b_hat"
   ]
  },
  {
   "cell_type": "code",
   "execution_count": 16,
   "metadata": {},
   "outputs": [
    {
     "name": "stdout",
     "output_type": "stream",
     "text": [
      "('The p_value associated with Count vs humidity is ', 0.0)\n"
     ]
    }
   ],
   "source": [
    "# H0: beta1 = 0 vs Ha: beta1 != 0\n",
    "se_beta1b = model2.bse[1]\n",
    "t = beta1b_hat / se_beta1b\n",
    "p_val2 = 2 * (1 - tdist.cdf(np.abs(t), df = 10884))\n",
    "print(\"The p_value associated with Count vs humidity is \", p_val2)"
   ]
  },
  {
   "cell_type": "code",
   "execution_count": 17,
   "metadata": {},
   "outputs": [
    {
     "name": "stdout",
     "output_type": "stream",
     "text": [
      "('The 95% confidence for beta1 is : ', -3.1549769885633285, -2.8195601685054896)\n"
     ]
    }
   ],
   "source": [
    "# 95% Confindece Inteval for beta1 \n",
    "crit_val = tdist.ppf(0.975, df = 10884)\n",
    "low_CI = beta1b_hat - crit_val*se_beta1b\n",
    "upp_CI = beta1b_hat + crit_val*se_beta1b\n",
    "print(\"The 95% confidence for beta1 is : \", low_CI, upp_CI)"
   ]
  },
  {
   "cell_type": "code",
   "execution_count": 18,
   "metadata": {
    "collapsed": true
   },
   "outputs": [],
   "source": [
    "# Interpretation : From the p-value which is 2.92 * 10^-253 < 0, \n",
    "# we will not reject the null hypothesis and the level of confidence \n",
    "# in 99.5%. This means that variable humidity is highly significant and\n",
    "# bike rentals are significantly influenced by the humidity. \n"
   ]
  },
  {
   "cell_type": "code",
   "execution_count": 19,
   "metadata": {},
   "outputs": [
    {
     "data": {
      "text/html": [
       "<table class=\"simpletable\">\n",
       "<caption>OLS Regression Results</caption>\n",
       "<tr>\n",
       "  <th>Dep. Variable:</th>          <td>count</td>      <th>  R-squared:         </th> <td>   0.010</td> \n",
       "</tr>\n",
       "<tr>\n",
       "  <th>Model:</th>                   <td>OLS</td>       <th>  Adj. R-squared:    </th> <td>   0.010</td> \n",
       "</tr>\n",
       "<tr>\n",
       "  <th>Method:</th>             <td>Least Squares</td>  <th>  F-statistic:       </th> <td>   113.0</td> \n",
       "</tr>\n",
       "<tr>\n",
       "  <th>Date:</th>             <td>Tue, 26 Sep 2017</td> <th>  Prob (F-statistic):</th> <td>2.90e-26</td> \n",
       "</tr>\n",
       "<tr>\n",
       "  <th>Time:</th>                 <td>22:13:11</td>     <th>  Log-Likelihood:    </th> <td> -71989.</td> \n",
       "</tr>\n",
       "<tr>\n",
       "  <th>No. Observations:</th>      <td> 10886</td>      <th>  AIC:               </th> <td>1.440e+05</td>\n",
       "</tr>\n",
       "<tr>\n",
       "  <th>Df Residuals:</th>          <td> 10884</td>      <th>  BIC:               </th> <td>1.440e+05</td>\n",
       "</tr>\n",
       "<tr>\n",
       "  <th>Df Model:</th>              <td>     1</td>      <th>                     </th>     <td> </td>    \n",
       "</tr>\n",
       "<tr>\n",
       "  <th>Covariance Type:</th>      <td>nonrobust</td>    <th>                     </th>     <td> </td>    \n",
       "</tr>\n",
       "</table>\n",
       "<table class=\"simpletable\">\n",
       "<tr>\n",
       "      <td></td>         <th>coef</th>     <th>std err</th>      <th>t</th>      <th>P>|t|</th>  <th>[0.025</th>    <th>0.975]</th>  \n",
       "</tr>\n",
       "<tr>\n",
       "  <th>const</th>     <td>  162.7876</td> <td>    3.212</td> <td>   50.682</td> <td> 0.000</td> <td>  156.492</td> <td>  169.084</td>\n",
       "</tr>\n",
       "<tr>\n",
       "  <th>windspeed</th> <td>    2.2491</td> <td>    0.212</td> <td>   10.630</td> <td> 0.000</td> <td>    1.834</td> <td>    2.664</td>\n",
       "</tr>\n",
       "</table>\n",
       "<table class=\"simpletable\">\n",
       "<tr>\n",
       "  <th>Omnibus:</th>       <td>2086.612</td> <th>  Durbin-Watson:     </th> <td>   0.322</td>\n",
       "</tr>\n",
       "<tr>\n",
       "  <th>Prob(Omnibus):</th>  <td> 0.000</td>  <th>  Jarque-Bera (JB):  </th> <td>3633.799</td>\n",
       "</tr>\n",
       "<tr>\n",
       "  <th>Skew:</th>           <td> 1.247</td>  <th>  Prob(JB):          </th> <td>    0.00</td>\n",
       "</tr>\n",
       "<tr>\n",
       "  <th>Kurtosis:</th>       <td> 4.338</td>  <th>  Cond. No.          </th> <td>    28.3</td>\n",
       "</tr>\n",
       "</table>"
      ],
      "text/plain": [
       "<class 'statsmodels.iolib.summary.Summary'>\n",
       "\"\"\"\n",
       "                            OLS Regression Results                            \n",
       "==============================================================================\n",
       "Dep. Variable:                  count   R-squared:                       0.010\n",
       "Model:                            OLS   Adj. R-squared:                  0.010\n",
       "Method:                 Least Squares   F-statistic:                     113.0\n",
       "Date:                Tue, 26 Sep 2017   Prob (F-statistic):           2.90e-26\n",
       "Time:                        22:13:11   Log-Likelihood:                -71989.\n",
       "No. Observations:               10886   AIC:                         1.440e+05\n",
       "Df Residuals:                   10884   BIC:                         1.440e+05\n",
       "Df Model:                           1                                         \n",
       "Covariance Type:            nonrobust                                         \n",
       "==============================================================================\n",
       "                 coef    std err          t      P>|t|      [0.025      0.975]\n",
       "------------------------------------------------------------------------------\n",
       "const        162.7876      3.212     50.682      0.000     156.492     169.084\n",
       "windspeed      2.2491      0.212     10.630      0.000       1.834       2.664\n",
       "==============================================================================\n",
       "Omnibus:                     2086.612   Durbin-Watson:                   0.322\n",
       "Prob(Omnibus):                  0.000   Jarque-Bera (JB):             3633.799\n",
       "Skew:                           1.247   Prob(JB):                         0.00\n",
       "Kurtosis:                       4.338   Cond. No.                         28.3\n",
       "==============================================================================\n",
       "\n",
       "Warnings:\n",
       "[1] Standard Errors assume that the covariance matrix of the errors is correctly specified.\n",
       "\"\"\""
      ]
     },
     "execution_count": 19,
     "metadata": {},
     "output_type": "execute_result"
    }
   ],
   "source": [
    "# (C) Fit a simple linear regression model relating count to Windspeed. \n",
    "# Formally test Beta_1 = 0 and beta_1 != 0. \n",
    "\n",
    "# Linear model between count vs windspeed.\n",
    "lm = smf.OLS(y, sm.tools.tools.add_constant(x3), )\n",
    "model3 = lm.fit()\n",
    "model3.summary()"
   ]
  },
  {
   "cell_type": "code",
   "execution_count": 20,
   "metadata": {},
   "outputs": [
    {
     "data": {
      "text/plain": [
       "2.2490579173365712"
      ]
     },
     "execution_count": 20,
     "metadata": {},
     "output_type": "execute_result"
    }
   ],
   "source": [
    "# Manually calculating the parametes. \n",
    "\n",
    "# beta1_hat \n",
    "beta1c_hat = np.corrcoef(x3,y)[0,1] * np.std(y) / np.std(x3)\n",
    "beta1c_hat"
   ]
  },
  {
   "cell_type": "code",
   "execution_count": 21,
   "metadata": {},
   "outputs": [
    {
     "data": {
      "text/plain": [
       "162.78755033543703"
      ]
     },
     "execution_count": 21,
     "metadata": {},
     "output_type": "execute_result"
    }
   ],
   "source": [
    "# beta0_hat\n",
    "beta0c_hat = np.mean(y) - beta1c_hat * np.mean(x3)\n",
    "beta0c_hat"
   ]
  },
  {
   "cell_type": "code",
   "execution_count": 22,
   "metadata": {},
   "outputs": [
    {
     "name": "stdout",
     "output_type": "stream",
     "text": [
      "('The p-value associated with count vs windspeed is : ', 0.0)\n"
     ]
    }
   ],
   "source": [
    "# H0 : beta1 = 0 vs beta1 != 0\n",
    "se_beta1c = model3.bse[1]\n",
    "t = beta1c_hat / se_beta1c\n",
    "p_val3 = 2 * (1 - tdist.cdf(np.abs(t), df = 10884))\n",
    "print(\"The p-value associated with count vs windspeed is : \", p_val3)"
   ]
  },
  {
   "cell_type": "code",
   "execution_count": 23,
   "metadata": {},
   "outputs": [
    {
     "name": "stdout",
     "output_type": "stream",
     "text": [
      "('The 95% confidence for beta1 is : ', 1.8343401065677059, 2.6637757281054366)\n"
     ]
    }
   ],
   "source": [
    "# 95% Confindece Inteval for beta1 \n",
    "crit_val = tdist.ppf(0.975, df = 10884)\n",
    "low_CI = beta1c_hat - crit_val*se_beta1c\n",
    "upp_CI = beta1c_hat + crit_val*se_beta1c\n",
    "print(\"The 95% confidence for beta1 is : \", low_CI, upp_CI)"
   ]
  },
  {
   "cell_type": "code",
   "execution_count": 24,
   "metadata": {
    "collapsed": true
   },
   "outputs": [],
   "source": [
    "# Interpretation : From the p-value which is 2.89 * 10^-26 < 0, we will \n",
    "# not reject the null hypothesis and the level of confidence in 99.5%.\n",
    "# This means that variable windspeed is highly significant and bike \n",
    "# rentals are significantly influenced by the Windspeed. "
   ]
  },
  {
   "cell_type": "code",
   "execution_count": 25,
   "metadata": {},
   "outputs": [
    {
     "data": {
      "text/plain": [
       "<matplotlib.text.Text at 0x11e2e6dd0>"
      ]
     },
     "execution_count": 25,
     "metadata": {},
     "output_type": "execute_result"
    },
    {
     "data": {
      "image/png": "[encoded data removed]",
      "text/plain": [
       "<matplotlib.figure.Figure at 0x11a9b4150>"
      ]
     },
     "metadata": {},
     "output_type": "display_data"
    }
   ],
   "source": [
    "# (D) Construct three Scatter plots : (1) Count vs Temp \n",
    "# (2) Count vs Humidity and (3) Count vs Windspeed. On all of these, \n",
    "# plot the least squares line-of-best-fit, the 95% confindense interval \n",
    "# and the 95% prediction interval. \n",
    "\n",
    "# 1(a) Scatter plot of count vs temp. \n",
    "fig1 = plt.figure()\n",
    "plt.scatter(x1,y, c = \"black\")\n",
    "fig1.suptitle(\"Count vs Temprature\")\n",
    "plt.ylabel(\"Count\")\n",
    "plt.xlabel(\"Temprature\")"
   ]
  },
  {
   "cell_type": "code",
   "execution_count": 26,
   "metadata": {},
   "outputs": [
    {
     "data": {
      "text/plain": [
       "[<matplotlib.lines.Line2D at 0x10f849d50>]"
      ]
     },
     "execution_count": 26,
     "metadata": {},
     "output_type": "execute_result"
    },
    {
     "data": {
      "image/png": "[encoded data removed]",
      "text/plain": [
       "<matplotlib.figure.Figure at 0x11e2fae90>"
      ]
     },
     "metadata": {},
     "output_type": "display_data"
    }
   ],
   "source": [
    "# 1(b) Scatter plot of count vs temp with line of best fit\n",
    "fig1 = plt.figure()\n",
    "plt.scatter(x1, y, c = \"black\")\n",
    "fig1.suptitle(\"Count vs Temprature\")\n",
    "plt.ylabel(\"Count\")\n",
    "plt.xlabel(\"Temprature\")\n",
    "plt.plot(np.unique(x1), np.poly1d(np.polyfit(x1, y, 1))(np.unique(x1)))"
   ]
  },
  {
   "cell_type": "code",
   "execution_count": 27,
   "metadata": {},
   "outputs": [
    {
     "data": {
      "image/png": "[encoded data removed]",
      "text/plain": [
       "<matplotlib.figure.Figure at 0x11e2fa610>"
      ]
     },
     "metadata": {},
     "output_type": "display_data"
    }
   ],
   "source": [
    "# 1(c) 95% Confidence interval and 95% prediction interval and \n",
    "# plotting them on them scatter plot. \n",
    "\n",
    "# Add the fitted line to the scatter plot\n",
    "fitted_line, = plt.plot(x1, model1.predict(), '-', color = \"red\", linewidth = 2, label = \"Fitted Values\")\n",
    "\n",
    "# 95% CI and PI \n",
    "beta0_hat = model1.params[0]\n",
    "beta1_hat = model1.params[1]\n",
    "sigma_hat = np.sqrt(model1.mse_resid)\n",
    "n = bikeShare.shape[0]\n",
    "sxx = n * np.var(x1)\n",
    "xp = np.linspace(x1.min(), x1.max(), 100)\n",
    "yp_hat = beta0_hat + beta1_hat * xp\n",
    "se_mu0 = sigma_hat * np.sqrt((1/n) + ((xp-np.mean(x1))**2/sxx))\n",
    "se_yp = sigma_hat * np.sqrt(1 + (1/n) + ((xp-np.mean(x1))**2/sxx))\n",
    "crit_val = tdist.ppf(0.975, df = n-2)\n",
    "ci_low = yp_hat - crit_val * se_mu0\n",
    "ci_hi = yp_hat + crit_val * se_mu0\n",
    "pi_low = yp_hat - crit_val * se_yp\n",
    "pi_hi = yp_hat + crit_val * se_yp\n",
    "plt.scatter(x1, y, c = \"black\")\n",
    "fig1.suptitle(\"Count vs Temprature\")\n",
    "plt.ylabel(\"Count\")\n",
    "plt.xlabel(\"Temprature\")\n",
    "lowCI_line, = plt.plot(xp, ci_low, '--', color = \"blue\", linewidth = 2, label = \"95% CI\")\n",
    "uppCI_line, = plt.plot(xp, ci_hi, '--', color = \"blue\", linewidth = 2, label = \"95% CI\")\n",
    "lowPI_line, = plt.plot(xp, pi_low, '--', color = \"purple\", linewidth = 2, label = \"95% PI\")\n",
    "uppPI_line, = plt.plot(xp, pi_hi, '--', color = \"purple\", linewidth = 2, label = \"95% PI\")\n",
    "legend = plt.legend(handles = [fitted_line, lowCI_line, lowPI_line], loc = 4)"
   ]
  },
  {
   "cell_type": "code",
   "execution_count": 28,
   "metadata": {},
   "outputs": [
    {
     "data": {
      "text/plain": [
       "<matplotlib.text.Text at 0x11e5fcb50>"
      ]
     },
     "execution_count": 28,
     "metadata": {},
     "output_type": "execute_result"
    },
    {
     "data": {
      "image/png": "[encoded data removed]",
      "text/plain": [
       "<matplotlib.figure.Figure at 0x11e4ab610>"
      ]
     },
     "metadata": {},
     "output_type": "display_data"
    }
   ],
   "source": [
    "# 2(a) Scatter plot of Count vs Humidty \n",
    "fig2 = plt.figure()\n",
    "plt.scatter(x2,y, c = \"black\")\n",
    "fig2.suptitle(\"Count vs Humidity\")\n",
    "plt.ylabel(\"Count\")\n",
    "plt.xlabel(\"Humidity\")"
   ]
  },
  {
   "cell_type": "code",
   "execution_count": 29,
   "metadata": {},
   "outputs": [
    {
     "data": {
      "text/plain": [
       "[<matplotlib.lines.Line2D at 0x10f712e90>]"
      ]
     },
     "execution_count": 29,
     "metadata": {},
     "output_type": "execute_result"
    },
    {
     "data": {
      "image/png": "[encoded data removed]",
      "text/plain": [
       "<matplotlib.figure.Figure at 0x11e4abfd0>"
      ]
     },
     "metadata": {},
     "output_type": "display_data"
    }
   ],
   "source": [
    "# 2(b) Line of best fit in Count vs Humidity \n",
    "fig2 = plt.figure()\n",
    "plt.scatter(x2, y, c = \"black\")\n",
    "fig2.suptitle(\"Count vs Humidity\")\n",
    "plt.ylabel(\"Count\")\n",
    "plt.xlabel(\"Humidity\")\n",
    "plt.plot(np.unique(x2), np.poly1d(np.polyfit(x2, y, 1))(np.unique(x2)))"
   ]
  },
  {
   "cell_type": "code",
   "execution_count": 30,
   "metadata": {},
   "outputs": [
    {
     "data": {
      "image/png": "[encoded data removed]",
      "text/plain": [
       "<matplotlib.figure.Figure at 0x11e4abc10>"
      ]
     },
     "metadata": {},
     "output_type": "display_data"
    }
   ],
   "source": [
    "# 2(c) 95% Confidence interval and 95% prediction interval and \n",
    "# plotting them on them scatter plot. \n",
    "\n",
    "# Add the fitted line to the scatter plot\n",
    "fitted_line, = plt.plot(x2, model2.predict(), '-', color = \"red\", linewidth = 2, label = \"Fitted Values\")\n",
    "\n",
    "# 95% CI and PI \n",
    "beta0_hat = model2.params[0]\n",
    "beta1_hat = model2.params[1]\n",
    "sigma_hat = np.sqrt(model2.mse_resid)\n",
    "n = bikeShare.shape[0]\n",
    "sxx = n * np.var(x2)\n",
    "xp = np.linspace(x2.min(), x2.max(), 100)\n",
    "yp_hat = beta0_hat + beta1_hat * xp\n",
    "se_mu0 = sigma_hat * np.sqrt((1/n) + ((xp-np.mean(x2))**2/sxx))\n",
    "se_yp = sigma_hat * np.sqrt(1 + (1/n) + ((xp-np.mean(x2))**2/sxx))\n",
    "crit_val = tdist.ppf(0.975, df = n-2)\n",
    "ci_low = yp_hat - crit_val * se_mu0\n",
    "ci_hi = yp_hat + crit_val * se_mu0\n",
    "pi_low = yp_hat - crit_val * se_yp\n",
    "pi_hi = yp_hat + crit_val * se_yp\n",
    "plt.scatter(x2, y, c = \"black\")\n",
    "fig1.suptitle(\"Count vs Humidity\")\n",
    "plt.ylabel(\"Count\")\n",
    "plt.xlabel(\"Humidity\")\n",
    "lowCI_line, = plt.plot(xp, ci_low, '--', color = \"blue\", linewidth = 2, label = \"95% CI\")\n",
    "uppCI_line, = plt.plot(xp, ci_hi, '--', color = \"blue\", linewidth = 2, label = \"95% CI\")\n",
    "lowPI_line, = plt.plot(xp, pi_low, '--', color = \"purple\", linewidth = 2, label = \"95% PI\")\n",
    "uppPI_line, = plt.plot(xp, pi_hi, '--', color = \"purple\", linewidth = 2, label = \"95% PI\")\n",
    "legend = plt.legend(handles = [fitted_line, lowCI_line, lowPI_line], loc = 4)"
   ]
  },
  {
   "cell_type": "code",
   "execution_count": 31,
   "metadata": {},
   "outputs": [
    {
     "data": {
      "text/plain": [
       "<matplotlib.text.Text at 0x11e6721d0>"
      ]
     },
     "execution_count": 31,
     "metadata": {},
     "output_type": "execute_result"
    },
    {
     "data": {
      "image/png": "[encoded data removed]",
      "text/plain": [
       "<matplotlib.figure.Figure at 0x11e47ac90>"
      ]
     },
     "metadata": {},
     "output_type": "display_data"
    }
   ],
   "source": [
    "# 3(a) Scatter Plot for Count vs Windspeed\n",
    "fig3 = plt.figure()\n",
    "plt.scatter(x3,y, c = \"black\")\n",
    "fig3.suptitle(\"Count vs Windspeed\")\n",
    "plt.ylabel(\"Count\")\n",
    "plt.xlabel(\"Windspeed\")"
   ]
  },
  {
   "cell_type": "code",
   "execution_count": 32,
   "metadata": {},
   "outputs": [
    {
     "data": {
      "text/plain": [
       "[<matplotlib.lines.Line2D at 0x11e67ae90>]"
      ]
     },
     "execution_count": 32,
     "metadata": {},
     "output_type": "execute_result"
    },
    {
     "data": {
      "image/png": "[encoded data removed]",
      "text/plain": [
       "<matplotlib.figure.Figure at 0x11e47a610>"
      ]
     },
     "metadata": {},
     "output_type": "display_data"
    }
   ],
   "source": [
    "# 3(b) fig2 = plt.figure()\n",
    "plt.scatter(x3, y, c = \"black\")\n",
    "fig3.suptitle(\"Count vs Windspeed\")\n",
    "plt.ylabel(\"Count\")\n",
    "plt.xlabel(\"Windspeed\")\n",
    "plt.plot(np.unique(x3), np.poly1d(np.polyfit(x3, y, 1))(np.unique(x3)))"
   ]
  },
  {
   "cell_type": "code",
   "execution_count": 33,
   "metadata": {},
   "outputs": [
    {
     "data": {
      "image/png": "[encoded data removed]",
      "text/plain": [
       "<matplotlib.figure.Figure at 0x11efc5550>"
      ]
     },
     "metadata": {},
     "output_type": "display_data"
    }
   ],
   "source": [
    "#3(c) 95% Confidence interval and 95% prediction interval and \n",
    "# plotting them on them scatter plot. \n",
    "\n",
    "# Add the fitted line to the scatter plot\n",
    "fitted_line, = plt.plot(x3, model3.predict(), '-', color = \"red\", linewidth = 2, label = \"Fitted Values\")\n",
    "\n",
    "# 95% CI and PI \n",
    "beta0_hat = model3.params[0]\n",
    "beta1_hat = model3.params[1]\n",
    "sigma_hat = np.sqrt(model3.mse_resid)\n",
    "n = bikeShare.shape[0]\n",
    "sxx = n * np.var(x3)\n",
    "xp = np.linspace(x3.min(), x3.max(), 100)\n",
    "yp_hat = beta0_hat + beta1_hat * xp\n",
    "se_mu0 = sigma_hat * np.sqrt((1/n) + ((xp-np.mean(x3))**2/sxx))\n",
    "se_yp = sigma_hat * np.sqrt(1 + (1/n) + ((xp-np.mean(x3))**2/sxx))\n",
    "crit_val = tdist.ppf(0.975, df = n-2)\n",
    "ci_low = yp_hat - crit_val * se_mu0\n",
    "ci_hi = yp_hat + crit_val * se_mu0\n",
    "pi_low = yp_hat - crit_val * se_yp\n",
    "pi_hi = yp_hat + crit_val * se_yp\n",
    "plt.scatter(x3, y, c = \"black\")\n",
    "fig1.suptitle(\"Count vs Windspeed\")\n",
    "plt.ylabel(\"Count\")\n",
    "plt.xlabel(\"Windspeed\")\n",
    "lowCI_line, = plt.plot(xp, ci_low, '--', color = \"blue\", linewidth = 2, label = \"95% CI\")\n",
    "uppCI_line, = plt.plot(xp, ci_hi, '--', color = \"blue\", linewidth = 2, label = \"95% CI\")\n",
    "lowPI_line, = plt.plot(xp, pi_low, '--', color = \"purple\", linewidth = 2, label = \"95% PI\")\n",
    "uppPI_line, = plt.plot(xp, pi_hi, '--', color = \"purple\", linewidth = 2, label = \"95% PI\")\n",
    "legend = plt.legend(handles = [fitted_line, lowCI_line, lowPI_line], loc = 4)"
   ]
  },
  {
   "cell_type": "code",
   "execution_count": 35,
   "metadata": {},
   "outputs": [
    {
     "data": {
      "text/plain": [
       "250.59395913097785"
      ]
     },
     "execution_count": 35,
     "metadata": {},
     "output_type": "execute_result"
    }
   ],
   "source": [
    "# (E) Using you're results form part (d) predict the number of bike \n",
    "# rentals in hours for which \n",
    "# (i) The outside temprature is 80 degrees fahrenheit \n",
    "# (ii) The wind speed in 15 mph \n",
    "# (iii) The relative humidity is 100% \n",
    "\n",
    "# (i) When the outside temprature is 80 \n",
    "X1i = 80 \n",
    "Y1i = beta0a_hat + beta1a_hat*X1i\n",
    "Y1i "
   ]
  },
  {
   "cell_type": "code",
   "execution_count": 64,
   "metadata": {},
   "outputs": [
    {
     "data": {
      "text/plain": [
       "196.5229"
      ]
     },
     "execution_count": 64,
     "metadata": {},
     "output_type": "execute_result"
    }
   ],
   "source": [
    "# (ii) When the windspeed in 15\n",
    "X3i = 15 \n",
    "Y3i = 162.7879 + 2.249*X3i\n",
    "Y3i"
   ]
  },
  {
   "cell_type": "code",
   "execution_count": 65,
   "metadata": {},
   "outputs": [
    {
     "data": {
      "text/plain": [
       "77.72499999999997"
      ]
     },
     "execution_count": 65,
     "metadata": {},
     "output_type": "execute_result"
    }
   ],
   "source": [
    "#(iii) When relative humidity \n",
    "X2i = 100 \n",
    "Y2i = 376.4450 - 2.9872*X2i\n",
    "Y2i"
   ]
  },
  {
   "cell_type": "code",
   "execution_count": 66,
   "metadata": {},
   "outputs": [
    {
     "data": {
      "text/html": [
       "<table class=\"simpletable\">\n",
       "<caption>OLS Regression Results</caption>\n",
       "<tr>\n",
       "  <th>Dep. Variable:</th>            <td>y</td>        <th>  R-squared:         </th> <td>   0.061</td> \n",
       "</tr>\n",
       "<tr>\n",
       "  <th>Model:</th>                   <td>OLS</td>       <th>  Adj. R-squared:    </th> <td>   0.061</td> \n",
       "</tr>\n",
       "<tr>\n",
       "  <th>Method:</th>             <td>Least Squares</td>  <th>  F-statistic:       </th> <td>   236.9</td> \n",
       "</tr>\n",
       "<tr>\n",
       "  <th>Date:</th>             <td>Tue, 26 Sep 2017</td> <th>  Prob (F-statistic):</th> <td>6.16e-149</td>\n",
       "</tr>\n",
       "<tr>\n",
       "  <th>Time:</th>                 <td>17:33:18</td>     <th>  Log-Likelihood:    </th> <td> -71701.</td> \n",
       "</tr>\n",
       "<tr>\n",
       "  <th>No. Observations:</th>      <td> 10886</td>      <th>  AIC:               </th> <td>1.434e+05</td>\n",
       "</tr>\n",
       "<tr>\n",
       "  <th>Df Residuals:</th>          <td> 10882</td>      <th>  BIC:               </th> <td>1.434e+05</td>\n",
       "</tr>\n",
       "<tr>\n",
       "  <th>Df Model:</th>              <td>     3</td>      <th>                     </th>     <td> </td>    \n",
       "</tr>\n",
       "<tr>\n",
       "  <th>Covariance Type:</th>      <td>nonrobust</td>    <th>                     </th>     <td> </td>    \n",
       "</tr>\n",
       "</table>\n",
       "<table class=\"simpletable\">\n",
       "<tr>\n",
       "       <td></td>         <th>coef</th>     <th>std err</th>      <th>t</th>      <th>P>|t|</th>  <th>[0.025</th>    <th>0.975]</th>  \n",
       "</tr>\n",
       "<tr>\n",
       "  <th>Intercept</th>  <td>  116.3433</td> <td>    3.387</td> <td>   34.352</td> <td> 0.000</td> <td>  109.704</td> <td>  122.982</td>\n",
       "</tr>\n",
       "<tr>\n",
       "  <th>C(x4)[T.2]</th> <td>   98.9081</td> <td>    4.769</td> <td>   20.740</td> <td> 0.000</td> <td>   89.560</td> <td>  108.256</td>\n",
       "</tr>\n",
       "<tr>\n",
       "  <th>C(x4)[T.3]</th> <td>  118.0739</td> <td>    4.769</td> <td>   24.758</td> <td> 0.000</td> <td>  108.726</td> <td>  127.422</td>\n",
       "</tr>\n",
       "<tr>\n",
       "  <th>C(x4)[T.4]</th> <td>   82.6450</td> <td>    4.769</td> <td>   17.331</td> <td> 0.000</td> <td>   73.298</td> <td>   91.992</td>\n",
       "</tr>\n",
       "</table>\n",
       "<table class=\"simpletable\">\n",
       "<tr>\n",
       "  <th>Omnibus:</th>       <td>1896.059</td> <th>  Durbin-Watson:     </th> <td>   0.337</td>\n",
       "</tr>\n",
       "<tr>\n",
       "  <th>Prob(Omnibus):</th>  <td> 0.000</td>  <th>  Jarque-Bera (JB):  </th> <td>3190.509</td>\n",
       "</tr>\n",
       "<tr>\n",
       "  <th>Skew:</th>           <td> 1.156</td>  <th>  Prob(JB):          </th> <td>    0.00</td>\n",
       "</tr>\n",
       "<tr>\n",
       "  <th>Kurtosis:</th>       <td> 4.299</td>  <th>  Cond. No.          </th> <td>    4.82</td>\n",
       "</tr>\n",
       "</table>"
      ],
      "text/plain": [
       "<class 'statsmodels.iolib.summary.Summary'>\n",
       "\"\"\"\n",
       "                            OLS Regression Results                            \n",
       "==============================================================================\n",
       "Dep. Variable:                      y   R-squared:                       0.061\n",
       "Model:                            OLS   Adj. R-squared:                  0.061\n",
       "Method:                 Least Squares   F-statistic:                     236.9\n",
       "Date:                Tue, 26 Sep 2017   Prob (F-statistic):          6.16e-149\n",
       "Time:                        17:33:18   Log-Likelihood:                -71701.\n",
       "No. Observations:               10886   AIC:                         1.434e+05\n",
       "Df Residuals:                   10882   BIC:                         1.434e+05\n",
       "Df Model:                           3                                         \n",
       "Covariance Type:            nonrobust                                         \n",
       "==============================================================================\n",
       "                 coef    std err          t      P>|t|      [0.025      0.975]\n",
       "------------------------------------------------------------------------------\n",
       "Intercept    116.3433      3.387     34.352      0.000     109.704     122.982\n",
       "C(x4)[T.2]    98.9081      4.769     20.740      0.000      89.560     108.256\n",
       "C(x4)[T.3]   118.0739      4.769     24.758      0.000     108.726     127.422\n",
       "C(x4)[T.4]    82.6450      4.769     17.331      0.000      73.298      91.992\n",
       "==============================================================================\n",
       "Omnibus:                     1896.059   Durbin-Watson:                   0.337\n",
       "Prob(Omnibus):                  0.000   Jarque-Bera (JB):             3190.509\n",
       "Skew:                           1.156   Prob(JB):                         0.00\n",
       "Kurtosis:                       4.299   Cond. No.                         4.82\n",
       "==============================================================================\n",
       "\n",
       "Warnings:\n",
       "[1] Standard Errors assume that the covariance matrix of the errors is correctly specified.\n",
       "\"\"\""
      ]
     },
     "execution_count": 66,
     "metadata": {},
     "output_type": "execute_result"
    }
   ],
   "source": [
    "# (F) Fit a linear regression model relation count to season using \n",
    "# automated functions.\n",
    "\n",
    "reg1 = smf.ols('y ~ C(x4)', data = bikeShare).fit()\n",
    "reg1.summary()"
   ]
  },
  {
   "cell_type": "code",
   "execution_count": 67,
   "metadata": {
    "collapsed": true
   },
   "outputs": [],
   "source": [
    "# From the model we can see that all of the season's catergorical \n",
    "# variables are highly significant. Regression equation will look \n",
    "# something like this :\n",
    "# Y = 116.343 + 98.908X1 + 118.074X2 + 82.645X3, where Beta0 is 116.343 \n",
    "# and beta1 = 98.908, beta2 = 118.075, beta3 = 82.645. When it'll\n",
    "# be spring season there will 116.343 rentals per day/hour where as \n",
    "# number of rental increases in fall season, declines in summer and \n",
    "# winter. Expected value in all of the seasons will looks as follows : \n",
    "\n",
    "# (1) Y_spring = Beta0 = 116.343\n",
    "# (2) Y_summer = Beta0 + Beta2X2 = 116.343 + 98.908*X2\n",
    "# (3) Y_fall = Beta0 + Beta3X3 = 116.343 + 118.074*X3\n",
    "# (4) Y_winter = Beta0 + Beta4X4 = 116.343 + 82.645*X4"
   ]
  },
  {
   "cell_type": "code",
   "execution_count": 68,
   "metadata": {},
   "outputs": [
    {
     "data": {
      "text/html": [
       "<table class=\"simpletable\">\n",
       "<caption>OLS Regression Results</caption>\n",
       "<tr>\n",
       "  <th>Dep. Variable:</th>            <td>y</td>        <th>  R-squared:         </th> <td>   0.018</td> \n",
       "</tr>\n",
       "<tr>\n",
       "  <th>Model:</th>                   <td>OLS</td>       <th>  Adj. R-squared:    </th> <td>   0.017</td> \n",
       "</tr>\n",
       "<tr>\n",
       "  <th>Method:</th>             <td>Least Squares</td>  <th>  F-statistic:       </th> <td>   65.53</td> \n",
       "</tr>\n",
       "<tr>\n",
       "  <th>Date:</th>             <td>Tue, 26 Sep 2017</td> <th>  Prob (F-statistic):</th> <td>5.48e-42</td> \n",
       "</tr>\n",
       "<tr>\n",
       "  <th>Time:</th>                 <td>17:33:22</td>     <th>  Log-Likelihood:    </th> <td> -71948.</td> \n",
       "</tr>\n",
       "<tr>\n",
       "  <th>No. Observations:</th>      <td> 10886</td>      <th>  AIC:               </th> <td>1.439e+05</td>\n",
       "</tr>\n",
       "<tr>\n",
       "  <th>Df Residuals:</th>          <td> 10882</td>      <th>  BIC:               </th> <td>1.439e+05</td>\n",
       "</tr>\n",
       "<tr>\n",
       "  <th>Df Model:</th>              <td>     3</td>      <th>                     </th>     <td> </td>    \n",
       "</tr>\n",
       "<tr>\n",
       "  <th>Covariance Type:</th>      <td>nonrobust</td>    <th>                     </th>     <td> </td>    \n",
       "</tr>\n",
       "</table>\n",
       "<table class=\"simpletable\">\n",
       "<tr>\n",
       "       <td></td>         <th>coef</th>     <th>std err</th>      <th>t</th>      <th>P>|t|</th>  <th>[0.025</th>    <th>0.975]</th>  \n",
       "</tr>\n",
       "<tr>\n",
       "  <th>Intercept</th>  <td>  205.2368</td> <td>    2.117</td> <td>   96.936</td> <td> 0.000</td> <td>  201.087</td> <td>  209.387</td>\n",
       "</tr>\n",
       "<tr>\n",
       "  <th>C(x5)[T.2]</th> <td>  -26.2813</td> <td>    3.982</td> <td>   -6.599</td> <td> 0.000</td> <td>  -34.087</td> <td>  -18.475</td>\n",
       "</tr>\n",
       "<tr>\n",
       "  <th>C(x5)[T.3]</th> <td>  -86.3905</td> <td>    6.482</td> <td>  -13.328</td> <td> 0.000</td> <td>  -99.096</td> <td>  -73.685</td>\n",
       "</tr>\n",
       "<tr>\n",
       "  <th>C(x5)[T.4]</th> <td>  -41.2368</td> <td>  179.567</td> <td>   -0.230</td> <td> 0.818</td> <td> -393.221</td> <td>  310.748</td>\n",
       "</tr>\n",
       "</table>\n",
       "<table class=\"simpletable\">\n",
       "<tr>\n",
       "  <th>Omnibus:</th>       <td>2029.021</td> <th>  Durbin-Watson:     </th> <td>   0.329</td>\n",
       "</tr>\n",
       "<tr>\n",
       "  <th>Prob(Omnibus):</th>  <td> 0.000</td>  <th>  Jarque-Bera (JB):  </th> <td>3492.480</td>\n",
       "</tr>\n",
       "<tr>\n",
       "  <th>Skew:</th>           <td> 1.221</td>  <th>  Prob(JB):          </th> <td>    0.00</td>\n",
       "</tr>\n",
       "<tr>\n",
       "  <th>Kurtosis:</th>       <td> 4.319</td>  <th>  Cond. No.          </th> <td>    109.</td>\n",
       "</tr>\n",
       "</table>"
      ],
      "text/plain": [
       "<class 'statsmodels.iolib.summary.Summary'>\n",
       "\"\"\"\n",
       "                            OLS Regression Results                            \n",
       "==============================================================================\n",
       "Dep. Variable:                      y   R-squared:                       0.018\n",
       "Model:                            OLS   Adj. R-squared:                  0.017\n",
       "Method:                 Least Squares   F-statistic:                     65.53\n",
       "Date:                Tue, 26 Sep 2017   Prob (F-statistic):           5.48e-42\n",
       "Time:                        17:33:22   Log-Likelihood:                -71948.\n",
       "No. Observations:               10886   AIC:                         1.439e+05\n",
       "Df Residuals:                   10882   BIC:                         1.439e+05\n",
       "Df Model:                           3                                         \n",
       "Covariance Type:            nonrobust                                         \n",
       "==============================================================================\n",
       "                 coef    std err          t      P>|t|      [0.025      0.975]\n",
       "------------------------------------------------------------------------------\n",
       "Intercept    205.2368      2.117     96.936      0.000     201.087     209.387\n",
       "C(x5)[T.2]   -26.2813      3.982     -6.599      0.000     -34.087     -18.475\n",
       "C(x5)[T.3]   -86.3905      6.482    -13.328      0.000     -99.096     -73.685\n",
       "C(x5)[T.4]   -41.2368    179.567     -0.230      0.818    -393.221     310.748\n",
       "==============================================================================\n",
       "Omnibus:                     2029.021   Durbin-Watson:                   0.329\n",
       "Prob(Omnibus):                  0.000   Jarque-Bera (JB):             3492.480\n",
       "Skew:                           1.221   Prob(JB):                         0.00\n",
       "Kurtosis:                       4.319   Cond. No.                         109.\n",
       "==============================================================================\n",
       "\n",
       "Warnings:\n",
       "[1] Standard Errors assume that the covariance matrix of the errors is correctly specified.\n",
       "\"\"\""
      ]
     },
     "execution_count": 68,
     "metadata": {},
     "output_type": "execute_result"
    }
   ],
   "source": [
    "# (G) Fit a linear regression model relation count to weather using automated \n",
    "# functions.\n",
    "\n",
    "reg2 = smf.ols('y ~ C(x5)', data = bikeShare).fit()\n",
    "reg2.summary()"
   ]
  },
  {
   "cell_type": "code",
   "execution_count": 69,
   "metadata": {
    "collapsed": true
   },
   "outputs": [],
   "source": [
    "# From the model we can see that most of the variables are highly\n",
    "# significant apart from 4 which is stormy. Regression equation will \n",
    "# look something like this :\n",
    "# Y = 205.237 - 26.281X1 - 86.390X2 - 41.237X3, where Beta0 is 205.237 \n",
    "# and beta1 = -26.281, beta2 = -86.390, beta3 = -41.237. When it'll \n",
    "# be nice/sunny weather there will 205.237 rentals per day/hour where \n",
    "# as number of rental decreases in cloudy weather, declines even more in \n",
    "# stormy and rainy. Expected value in all of the weather's will looks as \n",
    "# follows : \n",
    "\n",
    "# (1) Y_spring = Beta0 = 205.237\n",
    "# (2) Y_summer = Beta0 + Beta2X2 = 205.237 - 26.281*X2\n",
    "# (3) Y_fall = Beta0 + Beta3X3 = 205.237 - 86.390*X3\n",
    "# (4) Y_winter = Beta0 + Beta4X4 = 205.237 - 41.237*X4\n"
   ]
  }
 ],
 "metadata": {
  "kernelspec": {
   "display_name": "Python 2",
   "language": "python",
   "name": "python2"
  },
  "language_info": {
   "codemirror_mode": {
    "name": "ipython",
    "version": 2
   },
   "file_extension": ".py",
   "mimetype": "text/x-python",
   "name": "python",
   "nbconvert_exporter": "python",
   "pygments_lexer": "ipython2",
   "version": "2.7.13"
  }
 },
 "nbformat": 4,
 "nbformat_minor": 2
}
